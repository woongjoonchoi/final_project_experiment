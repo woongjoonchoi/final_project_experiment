{
 "cells": [
  {
   "cell_type": "code",
   "execution_count": 1,
   "id": "7558b394",
   "metadata": {},
   "outputs": [
    {
     "ename": "ModuleNotFoundError",
     "evalue": "No module named 'predict'",
     "output_type": "error",
     "traceback": [
      "\u001b[0;31m---------------------------------------------------------------------------\u001b[0m",
      "\u001b[0;31mModuleNotFoundError\u001b[0m                       Traceback (most recent call last)",
      "\u001b[0;32m<ipython-input-1-756c39730415>\u001b[0m in \u001b[0;36m<module>\u001b[0;34m\u001b[0m\n\u001b[0;32m----> 1\u001b[0;31m \u001b[0;32mfrom\u001b[0m \u001b[0mpredict\u001b[0m \u001b[0;32mimport\u001b[0m \u001b[0mload_model\u001b[0m\u001b[0;34m,\u001b[0m \u001b[0mget_prediction\u001b[0m\u001b[0;34m\u001b[0m\u001b[0;34m\u001b[0m\u001b[0m\n\u001b[0m",
      "\u001b[0;31mModuleNotFoundError\u001b[0m: No module named 'predict'"
     ]
    }
   ],
   "source": [
    "from predict import load_model, get_prediction"
   ]
  },
  {
   "cell_type": "code",
   "execution_count": null,
   "id": "9f79fa7c",
   "metadata": {},
   "outputs": [],
   "source": [
    "# 모델 불러오기\n",
    "trainer, tokenizer = load_model()\n",
    "# 데이터 받기\n",
    "with st.form(key=\"입력 from\"):\n",
    "    sentence = st.text_input(\"Question\")\n",
    "    st.form_submit_button(\"Submit\")\n",
    "\n",
    "\n",
    "prediction = get_prediction(trainer, tokenizer, sentence)\n",
    "\n",
    "st.write(f'label is {prediction}')"
   ]
  }
 ],
 "metadata": {
  "kernelspec": {
   "display_name": "Python 3",
   "language": "python",
   "name": "python3"
  },
  "language_info": {
   "codemirror_mode": {
    "name": "ipython",
    "version": 3
   },
   "file_extension": ".py",
   "mimetype": "text/x-python",
   "name": "python",
   "nbconvert_exporter": "python",
   "pygments_lexer": "ipython3",
   "version": "3.8.5"
  }
 },
 "nbformat": 4,
 "nbformat_minor": 5
}
