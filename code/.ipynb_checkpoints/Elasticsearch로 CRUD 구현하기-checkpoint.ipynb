{
 "cells": [
  {
   "cell_type": "code",
   "execution_count": 1,
   "id": "e936735b",
   "metadata": {},
   "outputs": [],
   "source": [
    "from elasticsearch import Elasticsearch\n",
    "\n",
    "es = Elasticsearch()"
   ]
  },
  {
   "cell_type": "markdown",
   "id": "6ac42d78",
   "metadata": {},
   "source": [
    "## Table Create"
   ]
  },
  {
   "cell_type": "code",
   "execution_count": null,
   "id": "7c95e2cf",
   "metadata": {},
   "outputs": [],
   "source": [
    "# db 이름 설정\n",
    "INDEX_NAME = \"test_index\"\n",
    "\n",
    "# db 셋팅\n",
    "INDEX_SETTINGS = {\n",
    "\"settings\" : {\n",
    "    \"index\":{\n",
    "    \"analysis\":{\n",
    "        \"analyzer\":{\n",
    "        \"korean\":{\n",
    "            \"type\":\"custom\",\n",
    "            \"tokenizer\":\"nori_tokenizer\",\n",
    "            \"filter\": [ \"shingle\" ],\n",
    "\n",
    "        }\n",
    "        }\n",
    "    }\n",
    "    }\n",
    "},\n",
    "\"mappings\": {\n",
    "\n",
    "    \"properties\" : {\n",
    "        \n",
    "        \"news_id\" : {\n",
    "        \"type\" : \"keyword\",\n",
    "        }\n",
    "        \n",
    "        \n",
    "        \"admin_id\" : {\n",
    "        \"type\" : \"keyword\",\n",
    "        }\n",
    "        \n",
    "        \"category\" : {\n",
    "        \"type\" : \"keyword\",\n",
    "        }\n",
    "        \n",
    "        \"date\" : {\n",
    "        \"type\" : \"date\"\n",
    "        }\n",
    "        \n",
    "        \"title\" : {\n",
    "        \"type\" : \"keyword\",\n",
    "        }\n",
    "        \n",
    "        \"article\" : {\n",
    "        \"type\" : \"keyword\",\n",
    "        }\n",
    "        \n",
    "        \"context\" : {\n",
    "        \"type\" : \"text\",\n",
    "        \"analyzer\": \"korean\",\n",
    "        \"search_analyzer\": \"korean\"\n",
    "        }\n",
    "        \n",
    "    }\n",
    "\n",
    "}\n",
    "}\n"
   ]
  },
  {
   "cell_type": "code",
   "execution_count": null,
   "id": "4ac9f55a",
   "metadata": {},
   "outputs": [],
   "source": [
    "def create_index(index):\n",
    "    if not es.indices.exists(index=index):\n",
    "        return es.indices.create(index=index)"
   ]
  },
  {
   "cell_type": "code",
   "execution_count": 2,
   "id": "32a004b2",
   "metadata": {},
   "outputs": [],
   "source": [
    "def insert(body):\n",
    "    return es.index(index=index, doc_type=doc_type, body=body)\n",
    "\n",
    "\n",
    "'''\n",
    "index = 'news'\n",
    "doc_type = 'daum'\n",
    "data = {\n",
    "    'date' : '20200811',\n",
    "    'category' : 'society',\n",
    "    'title' : '유령'은 어느 행성에서 지구로 왔는가?'\n",
    "    'content' : '크립톤 행성'\n",
    "}\n",
    "\n",
    "ir = insert(data)\n",
    "'''"
   ]
  },
  {
   "cell_type": "markdown",
   "id": "bc847a2f",
   "metadata": {},
   "source": [
    "## Table Read"
   ]
  },
  {
   "cell_type": "code",
   "execution_count": null,
   "id": "d4ed8400",
   "metadata": {},
   "outputs": [],
   "source": [
    "def search(index, data=None):\n",
    "    if data is None:\n",
    "        data = {\"match_all\" : {}}\n",
    "    else:\n",
    "        data = {\"match\" : data}\n",
    "    body = {\"query\" : data}\n",
    "    res = es.search(index=index, body=body)\n",
    "    \n",
    "'''\n",
    "sr = search(index, {'category': 'society'})\n",
    "pprint.pprint(sr)\n",
    "'''"
   ]
  },
  {
   "cell_type": "markdown",
   "id": "b4332cff",
   "metadata": {},
   "source": [
    "## Table Update"
   ]
  },
  {
   "cell_type": "code",
   "execution_count": null,
   "id": "50add1ad",
   "metadata": {},
   "outputs": [],
   "source": [
    "def update(id, doc):\n",
    "    body = {'doc' : doc}\n",
    "    res = es.update(index=index, id=id, body=body, doc_type=doc_type)\n",
    "    return res\n",
    "\n",
    "ir = insert(data)\n",
    "ur = update(ir['_id'], {newspaper:'sbs'})\n",
    "pprint.pprint(ur)"
   ]
  },
  {
   "cell_type": "markdown",
   "id": "d1b6f794",
   "metadata": {},
   "source": [
    "## Table Delete"
   ]
  },
  {
   "cell_type": "code",
   "execution_count": null,
   "id": "8e69cffb",
   "metadata": {},
   "outputs": [],
   "source": [
    "def delete_index(index):\n",
    "    if not es.indices.exists(index=index):\n",
    "        return es.indices.delete(index=index)"
   ]
  },
  {
   "cell_type": "code",
   "execution_count": null,
   "id": "e58924a1",
   "metadata": {},
   "outputs": [],
   "source": [
    "def delete_by_id(index, id):\n",
    "    return es.delete(index, id=id)"
   ]
  }
 ],
 "metadata": {
  "kernelspec": {
   "display_name": "Python 3",
   "language": "python",
   "name": "python3"
  },
  "language_info": {
   "codemirror_mode": {
    "name": "ipython",
    "version": 3
   },
   "file_extension": ".py",
   "mimetype": "text/x-python",
   "name": "python",
   "nbconvert_exporter": "python",
   "pygments_lexer": "ipython3",
   "version": "3.8.5"
  }
 },
 "nbformat": 4,
 "nbformat_minor": 5
}
