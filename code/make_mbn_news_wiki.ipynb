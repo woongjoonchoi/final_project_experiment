{
 "cells": [
  {
   "cell_type": "code",
   "execution_count": 13,
   "id": "a9927f38",
   "metadata": {
    "scrolled": true
   },
   "outputs": [
    {
     "name": "stdout",
     "output_type": "stream",
     "text": [
      "Requirement already satisfied: soynlp in /opt/conda/envs/lightweight/lib/python3.7/site-packages (0.0.493)\n",
      "Requirement already satisfied: scipy>=1.1.0 in /opt/conda/envs/lightweight/lib/python3.7/site-packages (from soynlp) (1.7.3)\n",
      "Requirement already satisfied: psutil>=5.0.1 in /opt/conda/envs/lightweight/lib/python3.7/site-packages (from soynlp) (5.8.0)\n",
      "Requirement already satisfied: numpy>=1.12.1 in /opt/conda/envs/lightweight/lib/python3.7/site-packages (from soynlp) (1.19.5)\n",
      "Requirement already satisfied: scikit-learn>=0.20.0 in /opt/conda/envs/lightweight/lib/python3.7/site-packages (from soynlp) (0.24.1)\n",
      "Requirement already satisfied: threadpoolctl>=2.0.0 in /opt/conda/envs/lightweight/lib/python3.7/site-packages (from scikit-learn>=0.20.0->soynlp) (3.0.0)\n",
      "Requirement already satisfied: joblib>=0.11 in /opt/conda/envs/lightweight/lib/python3.7/site-packages (from scikit-learn>=0.20.0->soynlp) (1.1.0)\n",
      "Collecting git+https://github.com/haven-jeon/PyKoSpacing.git\n",
      "  Cloning https://github.com/haven-jeon/PyKoSpacing.git to /tmp/pip-req-build-0ecdh1zc\n",
      "  Running command git clone -q https://github.com/haven-jeon/PyKoSpacing.git /tmp/pip-req-build-0ecdh1zc\n",
      "Requirement already satisfied: tensorflow==2.5.2 in /opt/conda/envs/lightweight/lib/python3.7/site-packages (from pykospacing==0.5) (2.5.2)\n",
      "Requirement already satisfied: h5py==3.1.0 in /opt/conda/envs/lightweight/lib/python3.7/site-packages (from pykospacing==0.5) (3.1.0)\n",
      "Collecting argparse>=1.4.0\n",
      "  Using cached argparse-1.4.0-py2.py3-none-any.whl (23 kB)\n",
      "Requirement already satisfied: numpy>=1.14.5 in /opt/conda/envs/lightweight/lib/python3.7/site-packages (from h5py==3.1.0->pykospacing==0.5) (1.19.5)\n",
      "Requirement already satisfied: cached-property in /opt/conda/envs/lightweight/lib/python3.7/site-packages (from h5py==3.1.0->pykospacing==0.5) (1.5.2)\n",
      "Requirement already satisfied: wheel~=0.35 in /opt/conda/envs/lightweight/lib/python3.7/site-packages (from tensorflow==2.5.2->pykospacing==0.5) (0.37.0)\n",
      "Requirement already satisfied: six~=1.15.0 in /opt/conda/envs/lightweight/lib/python3.7/site-packages (from tensorflow==2.5.2->pykospacing==0.5) (1.15.0)\n",
      "Requirement already satisfied: keras-nightly~=2.5.0.dev in /opt/conda/envs/lightweight/lib/python3.7/site-packages (from tensorflow==2.5.2->pykospacing==0.5) (2.5.0.dev2021032900)\n",
      "Requirement already satisfied: absl-py~=0.10 in /opt/conda/envs/lightweight/lib/python3.7/site-packages (from tensorflow==2.5.2->pykospacing==0.5) (0.15.0)\n",
      "Requirement already satisfied: gast==0.4.0 in /opt/conda/envs/lightweight/lib/python3.7/site-packages (from tensorflow==2.5.2->pykospacing==0.5) (0.4.0)\n",
      "Requirement already satisfied: keras-preprocessing~=1.1.2 in /opt/conda/envs/lightweight/lib/python3.7/site-packages (from tensorflow==2.5.2->pykospacing==0.5) (1.1.2)\n",
      "Requirement already satisfied: opt-einsum~=3.3.0 in /opt/conda/envs/lightweight/lib/python3.7/site-packages (from tensorflow==2.5.2->pykospacing==0.5) (3.3.0)\n",
      "Requirement already satisfied: google-pasta~=0.2 in /opt/conda/envs/lightweight/lib/python3.7/site-packages (from tensorflow==2.5.2->pykospacing==0.5) (0.2.0)\n",
      "Requirement already satisfied: typing-extensions~=3.7.4 in /opt/conda/envs/lightweight/lib/python3.7/site-packages (from tensorflow==2.5.2->pykospacing==0.5) (3.7.4.3)\n",
      "Requirement already satisfied: termcolor~=1.1.0 in /opt/conda/envs/lightweight/lib/python3.7/site-packages (from tensorflow==2.5.2->pykospacing==0.5) (1.1.0)\n",
      "Requirement already satisfied: astunparse~=1.6.3 in /opt/conda/envs/lightweight/lib/python3.7/site-packages (from tensorflow==2.5.2->pykospacing==0.5) (1.6.3)\n",
      "Requirement already satisfied: wrapt~=1.12.1 in /opt/conda/envs/lightweight/lib/python3.7/site-packages (from tensorflow==2.5.2->pykospacing==0.5) (1.12.1)\n",
      "Requirement already satisfied: tensorboard~=2.5 in /opt/conda/envs/lightweight/lib/python3.7/site-packages (from tensorflow==2.5.2->pykospacing==0.5) (2.7.0)\n",
      "Requirement already satisfied: protobuf>=3.9.2 in /opt/conda/envs/lightweight/lib/python3.7/site-packages (from tensorflow==2.5.2->pykospacing==0.5) (3.19.1)\n",
      "Requirement already satisfied: grpcio~=1.34.0 in /opt/conda/envs/lightweight/lib/python3.7/site-packages (from tensorflow==2.5.2->pykospacing==0.5) (1.34.1)\n",
      "Requirement already satisfied: tensorflow-estimator<2.6.0,>=2.5.0 in /opt/conda/envs/lightweight/lib/python3.7/site-packages (from tensorflow==2.5.2->pykospacing==0.5) (2.5.0)\n",
      "Requirement already satisfied: flatbuffers~=1.12.0 in /opt/conda/envs/lightweight/lib/python3.7/site-packages (from tensorflow==2.5.2->pykospacing==0.5) (1.12)\n",
      "Requirement already satisfied: google-auth<3,>=1.6.3 in /opt/conda/envs/lightweight/lib/python3.7/site-packages (from tensorboard~=2.5->tensorflow==2.5.2->pykospacing==0.5) (2.3.3)\n",
      "Requirement already satisfied: requests<3,>=2.21.0 in /opt/conda/envs/lightweight/lib/python3.7/site-packages (from tensorboard~=2.5->tensorflow==2.5.2->pykospacing==0.5) (2.26.0)\n",
      "Requirement already satisfied: tensorboard-data-server<0.7.0,>=0.6.0 in /opt/conda/envs/lightweight/lib/python3.7/site-packages (from tensorboard~=2.5->tensorflow==2.5.2->pykospacing==0.5) (0.6.1)\n",
      "Requirement already satisfied: tensorboard-plugin-wit>=1.6.0 in /opt/conda/envs/lightweight/lib/python3.7/site-packages (from tensorboard~=2.5->tensorflow==2.5.2->pykospacing==0.5) (1.8.0)\n",
      "Requirement already satisfied: markdown>=2.6.8 in /opt/conda/envs/lightweight/lib/python3.7/site-packages (from tensorboard~=2.5->tensorflow==2.5.2->pykospacing==0.5) (3.3.6)\n",
      "Requirement already satisfied: werkzeug>=0.11.15 in /opt/conda/envs/lightweight/lib/python3.7/site-packages (from tensorboard~=2.5->tensorflow==2.5.2->pykospacing==0.5) (2.0.2)\n",
      "Requirement already satisfied: setuptools>=41.0.0 in /opt/conda/envs/lightweight/lib/python3.7/site-packages (from tensorboard~=2.5->tensorflow==2.5.2->pykospacing==0.5) (58.0.4)\n",
      "Requirement already satisfied: google-auth-oauthlib<0.5,>=0.4.1 in /opt/conda/envs/lightweight/lib/python3.7/site-packages (from tensorboard~=2.5->tensorflow==2.5.2->pykospacing==0.5) (0.4.6)\n",
      "Requirement already satisfied: pyasn1-modules>=0.2.1 in /opt/conda/envs/lightweight/lib/python3.7/site-packages (from google-auth<3,>=1.6.3->tensorboard~=2.5->tensorflow==2.5.2->pykospacing==0.5) (0.2.8)\n",
      "Requirement already satisfied: cachetools<5.0,>=2.0.0 in /opt/conda/envs/lightweight/lib/python3.7/site-packages (from google-auth<3,>=1.6.3->tensorboard~=2.5->tensorflow==2.5.2->pykospacing==0.5) (4.2.4)\n",
      "Requirement already satisfied: rsa<5,>=3.1.4 in /opt/conda/envs/lightweight/lib/python3.7/site-packages (from google-auth<3,>=1.6.3->tensorboard~=2.5->tensorflow==2.5.2->pykospacing==0.5) (4.8)\n",
      "Requirement already satisfied: requests-oauthlib>=0.7.0 in /opt/conda/envs/lightweight/lib/python3.7/site-packages (from google-auth-oauthlib<0.5,>=0.4.1->tensorboard~=2.5->tensorflow==2.5.2->pykospacing==0.5) (1.3.0)\n",
      "Requirement already satisfied: importlib-metadata>=4.4 in /opt/conda/envs/lightweight/lib/python3.7/site-packages (from markdown>=2.6.8->tensorboard~=2.5->tensorflow==2.5.2->pykospacing==0.5) (4.8.1)\n",
      "Requirement already satisfied: zipp>=0.5 in /opt/conda/envs/lightweight/lib/python3.7/site-packages (from importlib-metadata>=4.4->markdown>=2.6.8->tensorboard~=2.5->tensorflow==2.5.2->pykospacing==0.5) (3.6.0)\n",
      "Requirement already satisfied: pyasn1<0.5.0,>=0.4.6 in /opt/conda/envs/lightweight/lib/python3.7/site-packages (from pyasn1-modules>=0.2.1->google-auth<3,>=1.6.3->tensorboard~=2.5->tensorflow==2.5.2->pykospacing==0.5) (0.4.8)\n",
      "Requirement already satisfied: idna<4,>=2.5 in /opt/conda/envs/lightweight/lib/python3.7/site-packages (from requests<3,>=2.21.0->tensorboard~=2.5->tensorflow==2.5.2->pykospacing==0.5) (3.3)\n",
      "Requirement already satisfied: certifi>=2017.4.17 in /opt/conda/envs/lightweight/lib/python3.7/site-packages (from requests<3,>=2.21.0->tensorboard~=2.5->tensorflow==2.5.2->pykospacing==0.5) (2021.10.8)\n",
      "Requirement already satisfied: urllib3<1.27,>=1.21.1 in /opt/conda/envs/lightweight/lib/python3.7/site-packages (from requests<3,>=2.21.0->tensorboard~=2.5->tensorflow==2.5.2->pykospacing==0.5) (1.26.7)\n",
      "Requirement already satisfied: charset-normalizer~=2.0.0 in /opt/conda/envs/lightweight/lib/python3.7/site-packages (from requests<3,>=2.21.0->tensorboard~=2.5->tensorflow==2.5.2->pykospacing==0.5) (2.0.7)\n",
      "Requirement already satisfied: oauthlib>=3.0.0 in /opt/conda/envs/lightweight/lib/python3.7/site-packages (from requests-oauthlib>=0.7.0->google-auth-oauthlib<0.5,>=0.4.1->tensorboard~=2.5->tensorflow==2.5.2->pykospacing==0.5) (3.1.1)\n"
     ]
    },
    {
     "name": "stdout",
     "output_type": "stream",
     "text": [
      "Installing collected packages: argparse\n",
      "Successfully installed argparse-1.4.0\n",
      "Collecting git+https://github.com/ssut/py-hanspell.git\n",
      "  Cloning https://github.com/ssut/py-hanspell.git to /tmp/pip-req-build-9a76a_wj\n",
      "  Running command git clone -q https://github.com/ssut/py-hanspell.git /tmp/pip-req-build-9a76a_wj\n",
      "Requirement already satisfied: requests in /opt/conda/envs/lightweight/lib/python3.7/site-packages (from py-hanspell==1.1) (2.26.0)\n",
      "Requirement already satisfied: certifi>=2017.4.17 in /opt/conda/envs/lightweight/lib/python3.7/site-packages (from requests->py-hanspell==1.1) (2021.10.8)\n",
      "Requirement already satisfied: charset-normalizer~=2.0.0 in /opt/conda/envs/lightweight/lib/python3.7/site-packages (from requests->py-hanspell==1.1) (2.0.7)\n",
      "Requirement already satisfied: idna<4,>=2.5 in /opt/conda/envs/lightweight/lib/python3.7/site-packages (from requests->py-hanspell==1.1) (3.3)\n",
      "Requirement already satisfied: urllib3<1.27,>=1.21.1 in /opt/conda/envs/lightweight/lib/python3.7/site-packages (from requests->py-hanspell==1.1) (1.26.7)\n"
     ]
    }
   ],
   "source": [
    "!pip install soynlp\n",
    "!pip install git+https://github.com/haven-jeon/PyKoSpacing.git\n",
    "!pip install git+https://github.com/ssut/py-hanspell.git"
   ]
  },
  {
   "cell_type": "code",
   "execution_count": 18,
   "id": "7da1a018",
   "metadata": {
    "scrolled": true
   },
   "outputs": [],
   "source": [
    "import os\n",
    "import pandas as pd\n",
    "import re\n",
    "from news_preprocessing import *"
   ]
  },
  {
   "cell_type": "code",
   "execution_count": 19,
   "id": "660d2f49",
   "metadata": {},
   "outputs": [],
   "source": [
    "category = {'1': '경제', '2':'국제', '3':'문화', '4':'부동산', '5':'사회', '6':'생활건강', '7':'스포츠', '8':'연예', '9':'정치'}"
   ]
  },
  {
   "cell_type": "code",
   "execution_count": 20,
   "id": "f7818be6",
   "metadata": {
    "scrolled": true
   },
   "outputs": [
    {
     "data": {
      "text/plain": [
       "['MBN00003U_9_2017.csv',\n",
       " 'MBN00003U_8_2017.csv',\n",
       " 'MBN00003U_4_2017.csv',\n",
       " 'MBN00003U_6_2016.csv',\n",
       " 'MBN00003U_3_2016.csv',\n",
       " 'MBN00003U_5_2017.csv',\n",
       " 'MBN00003U_7_2016.csv',\n",
       " 'MBN00003U_1_2018.csv',\n",
       " 'MBN00003U_6_2017.csv',\n",
       " 'MBN00003U_2_2018.csv',\n",
       " 'MBN00003U_2_2016.csv',\n",
       " 'MBN00003U_9_2016.csv',\n",
       " 'MBN00003U_3_2018.csv',\n",
       " 'MBN00003U_8_2016.csv',\n",
       " 'MBN00003U_3_2017.csv',\n",
       " 'MBN00003U_7_2018.csv',\n",
       " 'MBN00003U_7_2017.csv',\n",
       " 'MBN00003U_4_2016.csv',\n",
       " 'MBN00003U_4_2018.csv',\n",
       " 'MBN00003U_9_2018.csv',\n",
       " 'MBN00003U_6_2018.csv',\n",
       " 'MBN00003U_8_2018.csv',\n",
       " 'MBN00003U_2_2017.csv',\n",
       " 'MBN00003U_5_2016.csv',\n",
       " 'MBN00003U_5_2018.csv']"
      ]
     },
     "execution_count": 20,
     "metadata": {},
     "output_type": "execute_result"
    }
   ],
   "source": [
    "path = '../data_kdx/'\n",
    "file_list = os.listdir(path)\n",
    "file_list_py = [file for file in file_list if file.endswith('.csv')]\n",
    "file_list_py"
   ]
  },
  {
   "cell_type": "code",
   "execution_count": 21,
   "id": "6b60c8ee",
   "metadata": {},
   "outputs": [
    {
     "data": {
      "text/plain": [
       "{'MBN00003U_9_2017.csv': '정치',\n",
       " 'MBN00003U_8_2017.csv': '연예',\n",
       " 'MBN00003U_4_2017.csv': '부동산',\n",
       " 'MBN00003U_6_2016.csv': '생활건강',\n",
       " 'MBN00003U_3_2016.csv': '문화',\n",
       " 'MBN00003U_5_2017.csv': '사회',\n",
       " 'MBN00003U_7_2016.csv': '스포츠',\n",
       " 'MBN00003U_1_2018.csv': '경제',\n",
       " 'MBN00003U_6_2017.csv': '생활건강',\n",
       " 'MBN00003U_2_2018.csv': '국제',\n",
       " 'MBN00003U_2_2016.csv': '국제',\n",
       " 'MBN00003U_9_2016.csv': '정치',\n",
       " 'MBN00003U_3_2018.csv': '문화',\n",
       " 'MBN00003U_8_2016.csv': '연예',\n",
       " 'MBN00003U_3_2017.csv': '문화',\n",
       " 'MBN00003U_7_2018.csv': '스포츠',\n",
       " 'MBN00003U_7_2017.csv': '스포츠',\n",
       " 'MBN00003U_4_2016.csv': '부동산',\n",
       " 'MBN00003U_4_2018.csv': '부동산',\n",
       " 'MBN00003U_9_2018.csv': '정치',\n",
       " 'MBN00003U_6_2018.csv': '생활건강',\n",
       " 'MBN00003U_8_2018.csv': '연예',\n",
       " 'MBN00003U_2_2017.csv': '국제',\n",
       " 'MBN00003U_5_2016.csv': '사회',\n",
       " 'MBN00003U_5_2018.csv': '사회'}"
      ]
     },
     "execution_count": 21,
     "metadata": {},
     "output_type": "execute_result"
    }
   ],
   "source": [
    "file_dict_py = {}\n",
    "for file in file_list_py:\n",
    "    file_dict_py[file] = category[file[10]]\n",
    "file_dict_py"
   ]
  },
  {
   "cell_type": "markdown",
   "id": "163bb395",
   "metadata": {},
   "source": [
    "다음과 같이 문장과 관련한 기능은 고려하지 않았다.\n",
    "\n",
    "kss 문장분리  \n",
    "remove_dup_sent       # 중복문장 제거하기  \n",
    "spell_check_sent         # 맞춤법 보정  \n",
    "morph_filter              # 문장 여부 확인  \n",
    "excluded_word_filter    # 특정 단어를 포함하는 문장 필터링  \n",
    "remove_stopwords      # 큰 의미가 없는 불용어 정의  \n",
    "min_max_filter            # 문장을 최대, 최소 길이로 필터링합니다.  \n",
    "spacing_sent             # 공백 보정하기  \n",
    "\n",
    "remove_language        # 특정 언어 지우기  "
   ]
  },
  {
   "cell_type": "code",
   "execution_count": 23,
   "id": "79a24445",
   "metadata": {},
   "outputs": [],
   "source": [
    "df = pd.read_csv('../data_kdx/'+'MBN00003U_1_2018.csv', encoding='cp949')"
   ]
  },
  {
   "cell_type": "code",
   "execution_count": 25,
   "id": "6e6ff589",
   "metadata": {},
   "outputs": [
    {
     "data": {
      "text/plain": [
       "0        3424432\n",
       "1        3424434\n",
       "2        3424435\n",
       "3        3424448\n",
       "4        3424511\n",
       "          ...   \n",
       "30579    3723955\n",
       "30580    3723957\n",
       "30581    3723959\n",
       "30582    3723976\n",
       "30583    3724027\n",
       "Name: MDA_ART_ESSN_NO, Length: 30584, dtype: int64"
      ]
     },
     "execution_count": 25,
     "metadata": {},
     "output_type": "execute_result"
    }
   ],
   "source": [
    "df['MDA_ART_ESSN_NO']"
   ]
  },
  {
   "cell_type": "code",
   "execution_count": 31,
   "id": "4a28cb0b",
   "metadata": {},
   "outputs": [],
   "source": [
    "mbn_news_wiki = {}\n",
    "start_num = 0\n",
    "for file_name, category in file_dict_py.items():\n",
    "    df = pd.read_csv(path+file_name, encoding='cp949')\n",
    "    df['category'] = category\n",
    "    df['title'] = df['ART_SJ_CN']\n",
    "    df['article'] = df['ART_CN']\n",
    "    df['admin_id'] = \"AIPaperboy\"\n",
    "    df['date'] = list(map(lambda x: str(x)[:4]+'-' + str(x)[4:6]+'-'+str(x)[6:], df['WRT_DATE']))\n",
    "    df['news_id'] = df['MDA_ART_ESSN_NO']\n",
    "    sample = df['ART_CN'] + df['ART_SJ_CN']\n",
    "    sample = remove_html(sample)\n",
    "    sample = remove_email(sample)\n",
    "    sample = remove_hashtag(sample)\n",
    "    sample = remove_user_mention(sample)\n",
    "    sample = remove_url(sample)\n",
    "    sample = remove_bad_char(sample)\n",
    "    sample = remove_press(sample)\n",
    "    sample = remove_copyright(sample)\n",
    "    sample = remove_photo_info(sample)\n",
    "    sample = remove_useless_breacket(sample)\n",
    "    sample = remove_repeat_char(sample)\n",
    "    sample = clean_punc(sample)\n",
    "    sample = remove_repeated_spacing(sample)\n",
    "    df['context'] = sample\n",
    "    \n",
    "    df['index_col'] = [str(i) for i in range(start_num, start_num+len(df), 1)]\n",
    "    df = df.set_index(keys=['index_col'], inplace=False, drop=True)\n",
    "    start_num = start_num+len(df)\n",
    "    df_dict = df[['admin_id', 'news_id', 'category', 'date', 'title', 'article', 'context']].to_dict('index')\n",
    "    mbn_news_wiki.update(df_dict)"
   ]
  },
  {
   "cell_type": "code",
   "execution_count": 32,
   "id": "fb763bba",
   "metadata": {},
   "outputs": [
    {
     "data": {
      "text/plain": [
       "842904"
      ]
     },
     "execution_count": 32,
     "metadata": {},
     "output_type": "execute_result"
    }
   ],
   "source": [
    "len(mbn_news_wiki)"
   ]
  },
  {
   "cell_type": "code",
   "execution_count": 33,
   "id": "2e883a51",
   "metadata": {},
   "outputs": [
    {
     "data": {
      "text/plain": [
       "{'admin_id': 'AIPaperboy',\n",
       " 'news_id': 3105313,\n",
       " 'category': '정치',\n",
       " 'date': '2017-01-01',\n",
       " 'title': \"'붉은 닭의 해' 정유년 첫 날, 대통령은?…靑관저서 참모들과 '떡국 조찬'\",\n",
       " 'article': '\\'붉은 닭의 해\\' 정유년 첫 날, 대통령은?…靑관저서 참모들과 \\'떡국 조찬\\'<br /><br /><br /><br /><!------------ PHOTO_POS_0 ------------><br /><br />박근혜 대통령이 새해 첫날인 1일 청와대 관저에서 참모들과 \\'떡국 조찬\\'을 합니다.<br /><br /><br /><br />2013년 취임 후 매년 1월 1일에는 국립현충원을 참배하고 국무위원 및 청와대 참모들과 떡국으로 아침을 먹었으나, 올해는 참배 없이 참모들과만 아침 식사를 같이하기로 했습니다.<br /><br /><br /><br />지난달 9일 국회의 탄핵소추안 가결로 직무가 정지된 상황임을 고려한 것입니다.<br /><br /><br /><br />박 대통령이 새해 첫날 내던 신년사와 국군 장병에 대한 격려 메시지도 올해는 황교안 대통령 권한대행 국무총리가 대신했습니다.<br /><br /><br /><br />이날 떡국 조찬 자리는 박 대통령이 최근 청와대 관저를 찾아온 참모들에게 \"새해에 떡국이라도 드셔야 하지 않겠느냐\"고 말한데 이어 참모들도 박 대통령에게 \"혼자 드시지 마라\"고 건의하면서 만들어진 것으로 알려졌습니다.<br /><br /><br /><br />새해 첫 식사자리인 만큼 건강 기원 등의 덕담이 서로 오가는 자리가 될 것으로 보입니다.<br /><br /><br /><br />다만 헌법재판소의 탄핵심판 절차가 본격화되고 박영수 특별검사팀의 수사도 속도를 내고 있어 이전처럼 편안한 분위기가 되기는 어려울 것으로 전망됩니다. <br /><br /><br /><br />특히 박 대통령의 퇴진을 촉구하는 여론이 계속되면서 박 대통령측 일각에서는 법적 절차 진행이 여론의 영향을 받는 게 아니냐는 우려도 있습니다.<br /><br /><br /><br />탄핵안 가결 직후와 달리 박 대통령은 최근 담담하고 차분한 분위기를 보이고 있지만 이런 여론 환경 등을 고려할 때 심기가 편할 수 없다는 게 박 대통령 측 인사들의 전언입니다.<br /><br /><br /><br />한 인사는 \"나도 마음이 착잡한데 대통령은 어떠시겠느냐\"고 말했습니다.<br /><br /><br /><br />박 대통령은 이날 참모들과 조찬 외에 다른 외부 일정은 잡지 않고 헌재 변론 전략 수립 등에 매진할 것으로 보입니다. 이를 위해 대리인단과 수시로 접촉할 것으로 예상됩니다.<br /><br /><br /><br />[MBN 뉴스센터 / mbnreporter01@mbn.co.kr]',\n",
       " 'context': '\\'붉은 닭의 해\\' 정유년 첫 날, 대통령은 ... 靑관저서 참모들과 \\'떡국 조찬\\'박근혜 대통령이 새해 첫날인 1일 청와대 관저에서 참모들과 \\'떡국 조찬\\'을 합니다.2013년 취임 후 매년 1월 1일에는 국립현충원을 참배하고 국무위원 및 청와대 참모들과 떡국으로 아침을 먹었으나, 올해는 참배 없이 참모들과만 아침 식사를 같이하기로 했습니다.지난달 9일 국회의 탄핵소추안 가결로 직무가 정지된 상황임을 고려한 것입니다.박 대통령이 새해 첫날 내던 신년사와 국군 장병에 대한 격려 메시지도 올해는 황교안 대통령 권한대행 국무총리가 대신했습니다.이날 떡국 조찬 자리는 박 대통령이 최근 청와대 관저를 찾아온 참모들에게 \"새해에 떡국이라도 드셔야 하지 않겠느냐\"고 말한데 이어 참모들도 박 대통령에게 \"혼자 드시지 마라\"고 건의하면서 만들어진 것으로 알려졌습니다.새해 첫 식사자리인 만큼 건강 기원 등의 덕담이 서로 오가는 자리가 될 것으로 보입니다.다만 헌법재판소의 탄핵심판 절차가 본격화되고 박영수 특별검사팀의 수사도 속도를 내고 있어 이전처럼 편안한 분위기가 되기는 어려울 것으로 전망됩니다. 특히 박 대통령의 퇴진을 촉구하는 여론이 계속되면서 박 대통령측 일각에서는 법적 절차 진행이 여론의 영향을 받는 게 아니냐는 우려도 있습니다.탄핵안 가결 직후와 달리 박 대통령은 최근 담담하고 차분한 분위기를 보이고 있지만 이런 여론 환경 등을 고려할 때 심기가 편할 수 없다는 게 박 대통령 측 인사들의 전언입니다.한 인사는 \"나도 마음이 착잡한데 대통령은 어떠시겠느냐\"고 말했습니다.박 대통령은 이날 참모들과 조찬 외에 다른 외부 일정은 잡지 않고 헌재 변론 전략 수립 등에 매진할 것으로 보입니다. 이를 위해 대리인단과 수시로 접촉할 것으로 예상됩니다.\\'붉은 닭의 해\\' 정유년 첫 날, 대통령은 ... 靑관저서 참모들과 \\'떡국 조찬\\''}"
      ]
     },
     "execution_count": 33,
     "metadata": {},
     "output_type": "execute_result"
    }
   ],
   "source": [
    "mbn_news_wiki['0']"
   ]
  },
  {
   "cell_type": "markdown",
   "id": "52a6b735",
   "metadata": {},
   "source": [
    "* 추가로 작업된 사항  \n",
    "stopword : (앵커멘트, 질문 1, 질문 1 등 stopword에서 제외)  \n",
    "bad_char : ☎      (▶는 하나의 정보가 될 수 있어 제거하지 않았다.)  \n",
    "remove_press : [MBN 뉴스센터 / ], MBN뉴스 안병욱입니다.[최희석 기자]  \n",
    "remove_copyright : [ & mk.co.kr, 무단전재 및 재배포 금지]  \n",
    "remove_useless_breacket : 【】 , [ / ]            (적용 안됨 : 【 】[ ])  \n",
    "(【 앵커멘트 】, 【 질문 1 】,【 질문2 】는 처리 안함), (영상취재 : 유용규, 영상편집 : 정민정 는 처리가 안됨)  "
   ]
  },
  {
   "cell_type": "code",
   "execution_count": 34,
   "id": "9b6a0c8b",
   "metadata": {},
   "outputs": [],
   "source": [
    "import json\n",
    "\n",
    "with open(\"mbn_news_wiki.json\", \"w\") as json_file:\n",
    "    json.dump(mbn_news_wiki, json_file, indent=4, sort_keys=True)"
   ]
  }
 ],
 "metadata": {
  "kernelspec": {
   "display_name": "Python 3 (ipykernel)",
   "language": "python",
   "name": "python3"
  },
  "language_info": {
   "codemirror_mode": {
    "name": "ipython",
    "version": 3
   },
   "file_extension": ".py",
   "mimetype": "text/x-python",
   "name": "python",
   "nbconvert_exporter": "python",
   "pygments_lexer": "ipython3",
   "version": "3.7.11"
  }
 },
 "nbformat": 4,
 "nbformat_minor": 5
}
