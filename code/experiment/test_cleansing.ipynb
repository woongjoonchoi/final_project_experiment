{
 "nbformat": 4,
 "nbformat_minor": 2,
 "metadata": {
  "language_info": {
   "name": "python",
   "codemirror_mode": {
    "name": "ipython",
    "version": 3
   },
   "version": "3.7.11-final"
  },
  "orig_nbformat": 2,
  "file_extension": ".py",
  "mimetype": "text/x-python",
  "name": "python",
  "npconvert_exporter": "python",
  "pygments_lexer": "ipython3",
  "version": 3,
  "kernelspec": {
   "name": "lightweight",
   "display_name": "lightweight"
  }
 },
 "cells": [
  {
   "cell_type": "code",
   "execution_count": 1,
   "metadata": {},
   "outputs": [
    {
     "name": "stderr",
     "output_type": "stream",
     "text": "2021-12-21 23:02:50.170372: W tensorflow/stream_executor/platform/default/dso_loader.cc:64] Could not load dynamic library 'libcudart.so.11.0'; dlerror: libcudart.so.11.0: cannot open shared object file: No such file or directory\n2021-12-21 23:02:50.170422: I tensorflow/stream_executor/cuda/cudart_stub.cc:29] Ignore above cudart dlerror if you do not have a GPU set up on your machine.\n2021-12-21 23:02:51.335484: I tensorflow/stream_executor/platform/default/dso_loader.cc:53] Successfully opened dynamic library libcuda.so.1\n2021-12-21 23:02:52.091621: I tensorflow/stream_executor/cuda/cuda_gpu_executor.cc:937] successful NUMA node read from SysFS had negative value (-1), but there must be at least one NUMA node, so returning NUMA node zero\n2021-12-21 23:02:52.093351: I tensorflow/core/common_runtime/gpu/gpu_device.cc:1733] Found device 0 with properties: \npciBusID: 0000:00:05.0 name: Tesla V100-SXM2-32GB computeCapability: 7.0\ncoreClock: 1.53GHz coreCount: 80 deviceMemorySize: 31.75GiB deviceMemoryBandwidth: 836.37GiB/s\n2021-12-21 23:02:52.093495: W tensorflow/stream_executor/platform/default/dso_loader.cc:64] Could not load dynamic library 'libcudart.so.11.0'; dlerror: libcudart.so.11.0: cannot open shared object file: No such file or directory\n2021-12-21 23:02:52.093550: W tensorflow/stream_executor/platform/default/dso_loader.cc:64] Could not load dynamic library 'libcublas.so.11'; dlerror: libcublas.so.11: cannot open shared object file: No such file or directory\n2021-12-21 23:02:52.093594: W tensorflow/stream_executor/platform/default/dso_loader.cc:64] Could not load dynamic library 'libcublasLt.so.11'; dlerror: libcublasLt.so.11: cannot open shared object file: No such file or directory\n2021-12-21 23:02:52.093636: W tensorflow/stream_executor/platform/default/dso_loader.cc:64] Could not load dynamic library 'libcufft.so.10'; dlerror: libcufft.so.10: cannot open shared object file: No such file or directory\n2021-12-21 23:02:52.093677: W tensorflow/stream_executor/platform/default/dso_loader.cc:64] Could not load dynamic library 'libcurand.so.10'; dlerror: libcurand.so.10: cannot open shared object file: No such file or directory\n2021-12-21 23:02:52.093719: W tensorflow/stream_executor/platform/default/dso_loader.cc:64] Could not load dynamic library 'libcusolver.so.11'; dlerror: libcusolver.so.11: cannot open shared object file: No such file or directory\n2021-12-21 23:02:52.093761: W tensorflow/stream_executor/platform/default/dso_loader.cc:64] Could not load dynamic library 'libcusparse.so.11'; dlerror: libcusparse.so.11: cannot open shared object file: No such file or directory\n2021-12-21 23:02:52.093803: W tensorflow/stream_executor/platform/default/dso_loader.cc:64] Could not load dynamic library 'libcudnn.so.8'; dlerror: libcudnn.so.8: cannot open shared object file: No such file or directory\n2021-12-21 23:02:52.093814: W tensorflow/core/common_runtime/gpu/gpu_device.cc:1766] Cannot dlopen some GPU libraries. Please make sure the missing libraries mentioned above are installed properly if you would like to use GPU. Follow the guide at https://www.tensorflow.org/install/gpu for how to download and setup the required libraries for your platform.\nSkipping registering GPU devices...\n2021-12-21 23:02:52.094246: I tensorflow/core/platform/cpu_feature_guard.cc:142] This TensorFlow binary is optimized with oneAPI Deep Neural Network Library (oneDNN) to use the following CPU instructions in performance-critical operations:  AVX2 FMA\nTo enable them in other operations, rebuild TensorFlow with the appropriate compiler flags.\n2021-12-21 23:02:52.095654: I tensorflow/core/common_runtime/gpu/gpu_device.cc:1258] Device interconnect StreamExecutor with strength 1 edge matrix:\n2021-12-21 23:02:52.095673: I tensorflow/core/common_runtime/gpu/gpu_device.cc:1264]      \n"
    }
   ],
   "source": [
    "from news_preprocessing import *"
   ]
  },
  {
   "cell_type": "code",
   "execution_count": 51,
   "metadata": {},
   "outputs": [
    {
     "data": {
      "text/plain": "['Dataset',\n 'DatasetDict',\n 'In',\n 'Out',\n 'PATH',\n 'Spacing',\n '_',\n '_10',\n '_11',\n '_12',\n '_13',\n '_14',\n '_15',\n '_16',\n '_17',\n '_22',\n '_29',\n '_35',\n '_37',\n '_4',\n '_40',\n '_41',\n '_42',\n '_44',\n '_45',\n '_46',\n '_47',\n '_48',\n '_7',\n '_8',\n '_9',\n '__',\n '___',\n '__builtin__',\n '__builtins__',\n '__doc__',\n '__loader__',\n '__name__',\n '__package__',\n '__spec__',\n '_dh',\n '_i',\n '_i1',\n '_i10',\n '_i11',\n '_i12',\n '_i13',\n '_i14',\n '_i15',\n '_i16',\n '_i17',\n '_i18',\n '_i19',\n '_i2',\n '_i20',\n '_i21',\n '_i22',\n '_i23',\n '_i24',\n '_i25',\n '_i26',\n '_i27',\n '_i28',\n '_i29',\n '_i3',\n '_i30',\n '_i31',\n '_i32',\n '_i33',\n '_i34',\n '_i35',\n '_i36',\n '_i37',\n '_i38',\n '_i39',\n '_i4',\n '_i40',\n '_i41',\n '_i42',\n '_i43',\n '_i44',\n '_i45',\n '_i46',\n '_i47',\n '_i48',\n '_i49',\n '_i5',\n '_i50',\n '_i51',\n '_i6',\n '_i7',\n '_i8',\n '_i9',\n '_ih',\n '_ii',\n '_iii',\n '_oh',\n 'clean_punc',\n 'datasets',\n 'emoticon_normalize',\n 'exit',\n 'f',\n 'get_clean_data',\n 'get_ipython',\n 'json',\n 'load_dataset',\n 'load_from_disk',\n 'load_metric',\n 'normalize',\n 'normalize_map_func',\n 'normalize_sent_for_lrgraph',\n 'only_hangle',\n 'only_hangle_number',\n 'only_text',\n 'os',\n 'pd',\n 'quit',\n 're',\n 'remain_hangle_on_last',\n 'remove_bad_char',\n 'remove_copyright',\n 'remove_doublespace',\n 'remove_email',\n 'remove_hashtag',\n 'remove_html',\n 'remove_photo_info',\n 'remove_press',\n 'remove_repeat_char',\n 'remove_repeated_spacing',\n 'remove_stopwords',\n 'remove_url',\n 'remove_useless_breacket',\n 'remove_user_mention',\n 'repeat_normalize',\n 'simple_text4',\n 'spacing',\n 'spacing_sent',\n 'spell_check_sent',\n 'spell_checker',\n 'train_data']"
     },
     "execution_count": 51,
     "metadata": {},
     "output_type": "execute_result"
    }
   ],
   "source": [
    "dir()"
   ]
  },
  {
   "cell_type": "code",
   "execution_count": 5,
   "metadata": {},
   "outputs": [],
   "source": [
    "from hanspell import spell_checker"
   ]
  },
  {
   "cell_type": "code",
   "execution_count": 2,
   "metadata": {},
   "outputs": [],
   "source": [
    "import os"
   ]
  },
  {
   "cell_type": "code",
   "execution_count": 14,
   "metadata": {},
   "outputs": [
    {
     "data": {
      "text/plain": "'/opt/ml/code/final-project-level3-nlp-19/code/experiment'"
     },
     "execution_count": 14,
     "metadata": {},
     "output_type": "execute_result"
    }
   ],
   "source": [
    "os.getcwd()"
   ]
  },
  {
   "cell_type": "code",
   "execution_count": 6,
   "metadata": {},
   "outputs": [],
   "source": [
    "simple_text = \"[OSEN=강서정 기자] 김준희, 한혜진, 경리 등의 SNS는 그야말로 ‘다이어트 자극사진’으로 가득하다. 운동하는 모습을 담은 사진을 공개하거나 운동으로 탄탄해진 몸매를 자랑하는 이들의 사진을 보고 있으면 절로 감탄이 나올 정도다.◆ 한혜진한혜진은 놀라울 정도로 열심히 운동하는 모델이다. 자신의 몸매관리를 위해 꾸준히 노력하고 화보 촬영 전에는 한 달 동안 쌀과 반찬을 안 먹을 정도로 철저하다. 그가 SNS에 게재한 등근육 사진이 크게 화제가 되기도 했다.◆ 김준희김준희의 SNS는 ‘다이어트의 정석’이다. 운동하는 모습부터 식단까지 모든 것이 담겨있다. 닭가슴살과 샐러드에 지친 다이어터라면 김준희의 SNS을 팔로우하는 것도 좋을 듯하다. 거기다 운동으로 다져진 몸매를 보고 있으면 운동욕구가 무한 자극된다.◆ 장윤주장윤주는 완벽한 비율과 각선미를 자랑하는데 여기에는 그의 피나는 노력이 있었다. 방송에서 출산 후 몸매를 만들기 위해 필라테스를 하는 모습이 공개되기도 했다. 특히 출산 후에도 여전한 몸매를 자랑하는 그는 주부들의 다이어트를 자극하기도.◆ 손나은손나은은 굴곡진 몸매가 돋보이는 아이돌이다. 다이어트 식품 모델로도 활동하고 있는 손나은은 데뷔 초와 달리 늘씬한 몸매로 부러움을 사고 있다.◆ 제시가슴 성형수술을 당당하게 고백한 제시는 볼륨 있는 몸매를 자랑한다. 하지만 그의 잘록한 허리도 감탄을 자아낼 정도. 비키니부터 트레이닝복까지 완벽하게 소화하는 몸매의 소유자다.◆ 신수지신수지는 리듬체조 전 국가대표 출신답게 탄탄하면서도 볼륨감 있는 몸매가 돋보인다. SNS에서 플라잉 요가로 유연한 몸을 뽐내는 것은 물론 부러움을 자아내는 각선미가 눈길을 끈다.◆ 경리경리는 잘록한 허리가 돋보이는 S라인 몸매가 매력적이다. 몸매가 드러나는 의상을 입어도 전혀 굴욕 없는 몸매는 여성들의 워너비다. /kangsj@osen.co.kr[사진] 김준희, 한혜진, 장윤주, 손나은, 제시, 신수지, 경리 인스타그램', 'question': '손나은은 무슨 모델로도 활동하고 있는가?\""
   ]
  },
  {
   "cell_type": "code",
   "execution_count": 1,
   "metadata": {},
   "outputs": [
    {
     "name": "stderr",
     "output_type": "stream",
     "text": "2021-12-21 19:09:50.357385: W tensorflow/stream_executor/platform/default/dso_loader.cc:64] Could not load dynamic library 'libcudart.so.11.0'; dlerror: libcudart.so.11.0: cannot open shared object file: No such file or directory\n2021-12-21 19:09:50.357437: I tensorflow/stream_executor/cuda/cudart_stub.cc:29] Ignore above cudart dlerror if you do not have a GPU set up on your machine.\n"
    }
   ],
   "source": [
    "from transformers import AutoTokenizer"
   ]
  },
  {
   "cell_type": "code",
   "execution_count": 6,
   "metadata": {},
   "outputs": [],
   "source": [
    "tokenizer = AutoTokenizer.from_pretrained('klue/bert-base')"
   ]
  },
  {
   "cell_type": "code",
   "execution_count": 7,
   "metadata": {},
   "outputs": [
    {
     "ename": "NameError",
     "evalue": "name 'simple_text' is not defined",
     "output_type": "error",
     "traceback": [
      "\u001b[0;31m---------------------------------------------------------------------------\u001b[0m",
      "\u001b[0;31mNameError\u001b[0m                                 Traceback (most recent call last)",
      "\u001b[0;32m/tmp/ipykernel_2525/376471420.py\u001b[0m in \u001b[0;36m<module>\u001b[0;34m\u001b[0m\n\u001b[0;32m----> 1\u001b[0;31m \u001b[0mtokens\u001b[0m \u001b[0;34m=\u001b[0m \u001b[0mtokenizer\u001b[0m\u001b[0;34m.\u001b[0m\u001b[0mtokenize\u001b[0m\u001b[0;34m(\u001b[0m\u001b[0msimple_text\u001b[0m\u001b[0;34m)\u001b[0m\u001b[0;34m\u001b[0m\u001b[0;34m\u001b[0m\u001b[0m\n\u001b[0m\u001b[1;32m      2\u001b[0m \u001b[0mprint\u001b[0m\u001b[0;34m(\u001b[0m\u001b[0mtokens\u001b[0m\u001b[0;34m)\u001b[0m\u001b[0;34m\u001b[0m\u001b[0;34m\u001b[0m\u001b[0m\n",
      "\u001b[0;31mNameError\u001b[0m: name 'simple_text' is not defined"
     ]
    }
   ],
   "source": [
    "tokens = tokenizer.tokenize(simple_text)\n",
    "print(tokens)"
   ]
  },
  {
   "cell_type": "code",
   "execution_count": 3,
   "metadata": {},
   "outputs": [],
   "source": [
    "simple_text2 = [\"\"\"[IMG1][이슈데일리 최준용기자]민경훈이 정규 2집 앨범 ‘소풍’을 통해 1년 4개월 만에 가요계에 컴백했다. 민경훈의 ‘소풍’은 27일 자정, 전 온라인 음원 사이트를 통해 공개됐다. 이번에 공개된 앨범에는 총 10곡 이 수록됐으며, 각 각의 곡 모두 다른 분위기와 창법으로 차별화를 시도했다. 특히 민경훈은 이번 앨범에서 직접 프로듀싱에 나섰으며, 자작곡은 물론 유명 작곡가 김도훈, 전해성, 김세진, 이창현, 더 네임, 강우현, 오승은, 스웨덴의 작곡가 Hal Marabel, Jonas Reingold 등이 참여해 완성도를 높였다. 타이틀곡인 ‘쉬(She)’는 김도훈과 최갑원이 작곡, 작사한 곡으로 여름과 어울리는 시원하고 빠른 템포의 곡이다. 또 이 곡은 사랑하는 사람에 대한 고백송으로 민경훈의 감미롭고도 시원한 보컬이 가사를 잘 표현해주고 있다. 또 이번 앨범에는 SG워너비 이석훈이 함께한 듀엣곡을 수록돼 눈길을 끈다. 한편 민경훈은 오는 30일 MNET ‘엠카운트다운’을 통해 컴백 무대를 가질 예정이다.\n",
    "\"\"\"]"
   ]
  },
  {
   "cell_type": "code",
   "execution_count": 9,
   "metadata": {},
   "outputs": [],
   "source": [
    "tokens2 = tokenizer.tokenize(simple_text2[0])"
   ]
  },
  {
   "cell_type": "code",
   "execution_count": 10,
   "metadata": {},
   "outputs": [
    {
     "name": "stdout",
     "output_type": "stream",
     "text": "['[', 'IM', '##G', '##1', ']', '[', '이슈', '##데', '##일리', '최준', '##용', '##기', '##자', ']', '민경', '##훈', '##이', '정규', '2', '##집', '앨범', '‘', '소풍', '’', '을', '통해', '1', '##년', '4', '##개', '##월', '만', '##에', '가요', '##계', '##에', '컴백', '##했', '##다', '.', '민경', '##훈', '##의', '‘', '소풍', '’', '은', '27', '##일', '자정', ',', '전', '온라인', '음원', '사이트', '##를', '통해', '공개', '##됐', '##다', '.', '이번', '##에', '공개', '##된', '앨범', '##에', '##는', '총', '10', '##곡', '이', '수록', '##됐', '##으며', ',', '각', '각', '##의', '곡', '모두', '다른', '분위기', '##와', '창', '##법', '##으로', '차별', '##화', '##를', '시도', '##했', '##다', '.', '특히', '민경', '##훈', '##은', '이번', '앨범', '##에서', '직접', '프로', '##듀', '##싱', '##에', '나섰', '##으며', ',', '자작', '##곡', '##은', '물론', '유명', '작곡가', '김도', '##훈', ',', '전해', '##성', ',', '김세', '##진', ',', '이창', '##현', ',', '더', '네임', ',', '강우', '##현', ',', '오', '##승', '##은', ',', '스웨덴', '##의', '작곡가', 'H', '##al', 'Mar', '##ab', '##el', ',', 'J', '##on', '##as', 'Re', '##ing', '##old', '등', '##이', '참여', '##해', '완성도', '##를', '높였', '##다', '.', '타이틀', '##곡', '##인', '‘', '쉬', '(', 'She', ')', '’', '는', '김도', '##훈', '##과', '최', '##갑', '##원', '##이', '작곡', ',', '작사', '##한', '곡', '##으로', '여름', '##과', '어울리', '##는', '시원', '##하고', '빠른', '템포', '##의', '곡', '##이다', '.', '또', '이', '곡', '##은', '사랑', '##하', '##는', '사람', '##에', '대한', '고백', '##송', '##으로', '민경', '##훈', '##의', '감미', '##롭', '##고', '##도', '시원', '##한', '보컬', '##이', '가사', '##를', '잘', '표현', '##해', '##주', '##고', '있', '##다', '.', '또', '이번', '앨범', '##에', '##는', 'SG', '##워', '##너', '##비', '이석', '##훈', '##이', '함께', '##한', '듀엣', '##곡', '##을', '수록', '##돼', '눈길', '##을', '끈다', '.', '한편', '민경', '##훈', '##은', '오', '##는', '30', '##일', 'M', '##N', '##ET', '‘', '엠', '##카운트', '##다운', '’', '을', '통해', '컴백', '무대', '##를', '가질', '예정', '##이다', '.']\n"
    }
   ],
   "source": [
    "print(tokens2)"
   ]
  },
  {
   "cell_type": "code",
   "execution_count": 7,
   "metadata": {},
   "outputs": [
    {
     "name": "stdout",
     "output_type": "stream",
     "text": "['[', 'O', 'S', 'E', 'N', '=', '강', '서', '정', '기', '자', ']', '김', '준', '희', ',', '한', '혜', '진', ',', '경', '리', '등', '의', 'S', 'N', 'S', '는', '그', '야', '말', '로', '‘', '다', '이', '어', '트', '자', '극', '사', '진', '’', '으', '로', '가', '득', '하', '다', '.', '운', '동', '하', '는', '모', '습', '을', '담', '은', '사', '진', '을', '공', '개', '하', '거', '나', '운', '동', '으', '로', '탄', '탄', '해', '진', '몸', '매', '를', '자', '랑', '하', '는', '이', '들', '의', '사', '진', '을', '보', '고', '있', '으', '면', '절', '로', '감', '탄', '이', '나', '올', '정', '도', '다', '.', '◆', '한', '혜', '진', '한', '혜', '진', '은', '놀', '라', '울', '정', '도', '로', '열', '심', '히', '운', '동', '하', '는', '모', '델', '이', '다', '.', '자', '신', '의', '몸', '매', '관', '리', '를', '위', '해', '꾸', '준', '히', '노', '력', '하', '고', '화', '보', '촬', '영', '전', '에', '는', '한', '달', '동', '안', '쌀', '과', '반', '찬', '을', '안', '먹', '을', '정', '도', '로', '철', '저', '하', '다', '.', '그', '가', 'S', 'N', 'S', '에', '게', '재', '한', '등', '근', '육', '사', '진', '이', '크', '게', '화', '제', '가', '되', '기', '도', '했', '다', '.', '◆', '김', '준', '희', '김', '준', '희', '의', 'S', 'N', 'S', '는', '‘', '다', '이', '어', '트', '의', '정', '석', '’', '이', '다', '.', '운', '동', '하', '는', '모', '습', '부', '터', '식', '단', '까', '지', '모', '든', '것', '이', '담', '겨', '있', '다', '.', '닭', '가', '슴', '살', '과', '샐', '러', '드', '에', '지', '친', '다', '이', '어', '터', '라', '면', '김', '준', '희', '의', 'S', 'N', 'S', '을', '팔', '로', '우', '하', '는', '것', '도', '좋', '을', '듯', '하', '다', '.', '거', '기', '다', '운', '동', '으', '로', '다', '져', '진', '몸', '매', '를', '보', '고', '있', '으', '면', '운', '동', '욕', '구', '가', '무', '한', '자', '극', '된', '다', '.', '◆', '장', '윤', '주', '장', '윤', '주', '는', '완', '벽', '한', '비', '율', '과', '각', '선', '미', '를', '자', '랑', '하', '는', '데', '여', '기', '에', '는', '그', '의', '피', '나', '는', '노', '력', '이', '있', '었', '다', '.', '방', '송', '에', '서', '출', '산', '후', '몸', '매', '를', '만', '들', '기', '위', '해', '필', '라', '테', '스', '를', '하', '는', '모', '습', '이', '공', '개', '되', '기', '도', '했', '다', '.', '특', '히', '출', '산', '후', '에', '도', '여', '전', '한', '몸', '매', '를', '자', '랑', '하', '는', '그', '는', '주', '부', '들', '의', '다', '이', '어', '트', '를', '자', '극', '하', '기', '도', '.', '◆', '손', '나', '은', '손', '나', '은', '은', '굴', '곡', '진', '몸', '매', '가', '돋', '보', '이', '는', '아', '이', '돌', '이', '다', '.', '다', '이', '어', '트', '식', '품', '모', '델', '로', '도', '활', '동', '하', '고', '있', '는', '손', '나', '은', '은', '데', '뷔', '초', '와', '달', '리', '늘', '씬', '한', '몸', '매', '로', '부', '러', '움', '을', '사', '고', '있', '다', '.', '◆', '제', '시', '가', '슴', '성', '형', '수', '술', '을', '당', '당', '하', '게', '고', '백', '한', '제', '시', '는', '볼', '륨', '있', '는', '몸', '매', '를', '자', '랑', '한', '다', '.', '하', '지', '만', '그', '의', '잘', '록', '한', '허', '리', '도', '감', '탄', '을', '자', '아', '낼', '정', '도', '.', '비', '키', '니', '부', '터', '트', '레', '이', '닝', '복', '까', '지', '완', '벽', '하', '게', '소', '화', '하', '는', '몸', '매', '의', '소', '유', '자', '다', '.', '◆', '신', '수', '지', '신', '수', '지', '는', '리', '듬', '체', '조', '전', '국', '가', '대', '표', '출', '신', '답', '게', '탄', '탄', '하', '면', '서', '도', '볼', '륨', '감', '있', '는', '몸', '매', '가', '돋', '보', '인', '다', '.', 'S', 'N', 'S', '에', '서', '플', '라', '잉', '요', '가', '로', '유', '연', '한', '몸', '을', '뽐', '내', '는', '것', '은', '물', '론', '부', '러', '움', '을', '자', '아', '내', '는', '각', '선', '미', '가', '눈', '길', '을', '끈', '다', '.', '◆', '경', '리', '경', '리', '는', '잘', '록', '한', '허', '리', '가', '돋', '보', '이', '는', 'S', '라', '인', '몸', '매', '가', '매', '력', '적', '이', '다', '.', '몸', '매', '가', '드', '러', '나', '는', '의', '상', '을', '입', '어', '도', '전', '혀', '굴', '욕', '없', '는', '몸', '매', '는', '여', '성', '들', '의', '워', '너', '비', '다', '.', '/', 'k', 'a', 'n', 'g', 's', 'j', '@', 'o', 's', 'e', 'n', '.', 'c', 'o', '.', 'k', 'r', '[', '사', '진', ']', '김', '준', '희', ',', '한', '혜', '진', ',', '장', '윤', '주', ',', '손', '나', '은', ',', '제', '시', ',', '신', '수', '지', ',', '경', '리', '인', '스', '타', '그', '램', \"'\", ',', \"'\", 'q', 'u', 'e', 's', 't', 'i', 'o', 'n', \"'\", ':', \"'\", '손', '나', '은', '은', '무', '슨', '모', '델', '로', '도', '활', '동', '하', '고', '있', '는', '가', '?']\n"
    }
   ],
   "source": [
    "print(remove_press(simple_text))"
   ]
  },
  {
   "cell_type": "code",
   "execution_count": 13,
   "metadata": {},
   "outputs": [
    {
     "data": {
      "text/plain": "['[IMG1][ ]민경훈이 정규 2집 앨범 ‘소풍’을 통해 1년 4개월 만에 가요계에 컴백했다. 민경훈의 ‘소풍’은 27일 자정, 전 온라인 음원 사이트를 통해 공개됐다. 이번에 공개된 앨범에는 총 10곡 이 수록됐으며, 각 각의 곡 모두 다른 분위기와 창법으로 차별화를 시도했다. 특히 민경훈은 이번 앨범에서 직접 프로듀싱에 나섰으며, 자작곡은 물론 유명 작곡가 김도훈, 전해성, 김세진, 이창현, 더 네임, 강우현, 오승은, 스웨덴의 작곡가 Hal Marabel, Jonas Reingold 등이 참여해 완성도를 높였다. 타이틀곡인 ‘쉬(She)’는 김도훈과 최갑원이 작곡, 작사한 곡으로 여름과 어울리는 시원하고 빠른 템포의 곡이다. 또 이 곡은 사랑하는 사람에 대한 고백송으로 민경훈의 감미롭고도 시원한 보컬이 가사를 잘 표현해주고 있다. 또 이번 앨범에는 SG워너비 이석훈이 함께한 듀엣곡을 수록돼 눈길을 끈다. 한편 민경훈은 오는 30일 MNET ‘엠카운트다운’을 통해 컴백 무대를 가질 예정이다.']"
     },
     "execution_count": 13,
     "metadata": {},
     "output_type": "execute_result"
    }
   ],
   "source": [
    "remove_press(simple_text2)"
   ]
  },
  {
   "cell_type": "code",
   "execution_count": 3,
   "metadata": {},
   "outputs": [],
   "source": [
    "simple_text3=[\"[TV리포트 = 이혜미 기자] 김지석과 ‘문제적 남자’들이 전현무를 놀리는 재미에 푹 빠졌다. 11일 tvN ‘문제적 남자’가 방송됐다. 녹화 중 쉬는 시간. 전현무가 짧은 취침 후 돌아온 가운데 김지석을 비롯한 문제적 남자들은 그를 ‘TV왕’이라 칭하며 웃었다. 특히나 김지석은 “2017년 연예대상 수상자 전현무가 입장하고 계신다”라고 판을 까는 것으로 재미를 고조시켰다. 전현무는 당황한 기색 없이 게스트, 출연자들과 악수를 나누는 것으로 절정의 예능감을 뽐냈다. 그 모습에 출연자들은 “국회의원 같다”라고 입을 모았다. 이혜미 기자 gpai@tvreport.co.kr/사진 = tvN\"]"
   ]
  },
  {
   "cell_type": "code",
   "execution_count": 4,
   "metadata": {},
   "outputs": [
    {
     "data": {
      "text/plain": "['김지석과 ‘문제적 남자’들이 전현무를 놀리는 재미에 푹 빠졌다. 11일 tvN ‘문제적 남자’가 방송됐다. 녹화 중 쉬는 시간. 전현무가 짧은 취침 후 돌아온 가운데 김지석을 비롯한 문제적 남자들은 그를 ‘TV왕’이라 칭하며 웃었다. 특히나 김지석은 “2017년 연예대상 수상자 전현무가 입장하고 계신다”라고 판을 까는 것으로 재미를 고조시켰다. 전현무는 당황한 기색 없이 게스트, 출연자들과 악수를 나누는 것으로 절정의 예능감을 뽐냈다. 그 모습에 출연자들은 “국회의원 같다”라고 입을 모았다.  gpai@tvreport.co.kr/사진 = tvN']"
     },
     "execution_count": 4,
     "metadata": {},
     "output_type": "execute_result"
    }
   ],
   "source": [
    "remove_press(simple_text3)"
   ]
  },
  {
   "cell_type": "code",
   "execution_count": 14,
   "metadata": {},
   "outputs": [],
   "source": [
    "simple_text4=[\"중국의 한 여성 경찰이 ὧ아파트에서 추락하던 3세 아이를 살리고 자신은 혼수상태에 빠졌습니다. 의인(義人)의 소식이 알려지자 각박한 중국 사회에 큰 반향을 일으키고 있습니다. 5일 귀주도시망 등 중국 현지 언론에 따르면 구이저우성 카일리시에 보조 교통 경찰로 일하는 천중핑(49)은 지난달 28일 한 아파트에서 비상 상황이 발생했다는 연락을 받고 현장으로 향했습니다. 도착했을 때 아파트 4층 창문에서 여자 아이가 매달려 있었습니다. 곧이어 아이는 손에 힘이 빠지면서 밑으로 추락했습니다. 천중핑과 다른 세명의 이웃들이 달려갔습니다. 그리고 아이는 바닥이 아니라 천중핑의 팔에 떨어졌습니다. 중간 비막이 천막 때문에 속도가 줄기는 했지만 추락의 충격은 천중핑이 고스란히 감당해야 했습니다. 아이는 즉시 병원으로 옮겨져 치료를 받았습니다. 다리 골절로 그리 심각한 상황은 아니라고 합니다. 하지만 생명의 은인이자 영웅은 커다란 댓가를 치러야 했다. 뇌출혈로 인한 의식불명 상태에 빠진 것이다. 다행히 이틀 간의 코마 상태 이후 의식을 회복해 지난 2일부터 중환자실에서 치료를 받고 있습니다. 아이는 열쇠공이 문을 따는 소리에 겁을 먹고 창문 밖으로 도망을 치려다 사고를 당한 것으로 전해졌습니다. 아이가 잠든 사이 돌보던 아이의 할머니가 쓰레기를 버리러 나갔다가 문이 잠기는 바람에 열쇠공을 불렀던 것입니다. 아이의 엄마는 “천중핑의 도움이 없었다면 아이는 죽었을 것”이라며 딸을 구해준 천중핑에게 감사의 뜻을 전했습다. 카일리시 정부 대표와 공안부 관계자들도 천중핑이 입원한 병원을 찾아 위로하고 회복될때까지 도움을 아끼지 않겠다고 밝혔습니다. 천중핑의 선행 사실을 접한 중국 기업 알리바바도 ‘중국의 좋은 이웃상’과 함께 상금 1만 위안(약 170만원)을 수여하기로 했습니다. [아직 살만한 세상]은 점점 각박해지는 세상에 희망과 믿음을 주는 이들의 이야기입니다. 힘들고 지칠 때 아직 살만한 세상을 만들어가는 ‘아살세’ 사람들의 목소리를 들어보세요. 따뜻한 세상을 꿈꾸는 독자 여러분의 제보를 기다립니다. 맹경환 기자 khmaeng@kmib.co.kr\"]"
   ]
  },
  {
   "cell_type": "code",
   "execution_count": 24,
   "metadata": {},
   "outputs": [
    {
     "data": {
      "text/plain": "['중국의 한 여성 경찰이  아파트에서 추락하던 3세 아이를 살리고 자신은 혼수 상태에 빠졌습니다. 의 인(義人)의 소식이 알려지자 각박한 중국 사회에 큰 반향을 일으키고 있습니다. 5일 귀주도시 망 등 중국 현지 언론에 따르면 구이저우성 카일리시에 보조 교통 경찰로 일하는 천중핑(49)은 지난달 28일 한 아파트에서 비상 상황이 발생했다는 연락을 받고 현장으로  향했습니다. 도착했을 때 아파트 4층 창문에서 여자 아이가 매달려 있었습니다. 곧이어 아이는 손에 힘이 빠지면서 밑으로 추락했습니다. 천중핑과 다른 세 명의 이웃들이 달려갔습니다. 그리고 아이는 바닥이 아니라 천중핑의 팔에 떨어졌습니다. 중간 비막이 천막 때문에 속도가 줄기는 했지만 추락의 충격은 천중핑이 고스란히 감당해야 했습니다. 아이는 즉시 병원으 로 옮겨져 치료를 받았습니다. 다리 골절로 그리 심각한 상황은 아니라 고 합니다. 하지만 생명의 은인이자 영웅은 커다란 댓가를 치러야 했다. 뇌출혈로 인한 의식불명 상태에 빠진 것이다. 다행히 이틀 간의 코마 상태 이후 의식을 회복해 지난 2일부터 중환자실에서 치료를 받고 있습니다. 아이는 열쇠공이 문을 따는 소리에 겁을 먹고 창문 밖으로 도망을 치려다  사고를 당한 것으로 전해졌습니다. 아이가 잠든 사이 돌보던 아이의 할머니가 쓰레기를 버리러 나갔다가 문이 잠기는 바람에 열쇠공을 불렀던 것입니다. 아이의 엄마는 \"천중핑의 도움이 없었다면 아이는 죽었을 것\"이라며 딸을 구해준 천중핑에게 감사의 뜻을 전했습다. 카일리시 정부 대표와 공안부 관계자들도 천 중핑이 입원한 병원을 찾아 위로 하고 회복될 때까지 도움을  아끼지 않겠다고 밝혔습니다. 천중핑의 선행 사실을 접한 중국 기업 알리바바도 \\'중국의 좋은 이웃상\\'과 함께 상금 1만 위안(약 170만원)을 수여하기로 했습니다. [아직 살만한 세상] 은 점점 각박해지는 세상에 희망과 믿음을 주는 이들의 이야기입니다. 힘들고 지칠 때 아직 살만한 세상을 만들어가는 \\'아살 세\\' 사람들의 목소리를 들어보세요. 따뜻한 세상을  꿈꾸는 독자 여러분의 제보를 기 다립니다.']"
     },
     "execution_count": 24,
     "metadata": {},
     "output_type": "execute_result"
    }
   ],
   "source": [
    "remove_answer_mark(normalize_map_func(simple_text4[0]))"
   ]
  },
  {
   "cell_type": "code",
   "execution_count": 8,
   "metadata": {},
   "outputs": [
    {
     "data": {
      "text/plain": "['중국의 한 여성 경찰이 아파트에서 추락하던 3세 아이를 살리고 자신은 혼수상태에 빠졌습니다. 의인(義人)의 소식이 알려지자 각박한 중국 사회에 큰 반향을 일으키고 있습니다. 5일 귀주도시망 등 중국 현지 언론에 따르면 구이저우성 카일리시에 보조 교통 경찰로 일하는 천중핑(49)은 지난달 28일 한 아파트에서 비상 상황이 발생했다는 연락을 받고 현장으로 향했습니다. 도착했을 때 아파트 4층 창문에서 여자 아이가 매달려 있었습니다. 곧이어 아이는 손에 힘이 빠지면서 밑으로 추락했습니다. 천중핑과 다른 세명의 이웃들이 달려갔습니다. 그리고 아이는 바닥이 아니라 천중핑의 팔에 떨어졌습니다. 중간 비막이 천막 때문에 속도가 줄기는 했지만 추락의 충격은 천중핑이 고스란히 감당해야 했습니다. 아이는 즉시 병원으로 옮겨져 치료를 받았습니다. 다리 골절로 그리 심각한 상황은 아니라고 합니다. 하지만 생명의 은인이자 영웅은 커다란 댓가를 치러야 했다. 뇌출혈로 인한 의식불명 상태에 빠진 것이다. 다행히 이틀 간의 코마 상태 이후 의식을 회복해 지난 2일부터 중환자실에서 치료를 받고 있습니다. 아이는 열쇠공이 문을 따는 소리에 겁을 먹고 창문 밖으로 도망을 치려다 사고를 당한 것으로 전해졌습니다. 아이가 잠든 사이 돌보던 아이의 할머니가 쓰레기를 버리러 나갔다가 문이 잠기는 바람에 열쇠공을 불렀던 것입니다. 아이의 엄마는 “천중핑의 도움이 없었다면 아이는 죽었을 것”이라며 딸을 구해준 천중핑에게 감사의 뜻을 전했습다. 카일리시 정부 대표와 공안부 관계자들도 천중핑이 입원한 병원을 찾아 위로하고 회복될때까지 도움을 아끼지 않겠다고 밝혔습니다. 천중핑의 선행 사실을 접한 중국 기업 알리바바도 ‘중국의 좋은 이웃상’과 함께 상금 1만 위안(약 170만원)을 수여하기로 했습니다. [아직 살만한 세상]은 점점 각박해지는 세상에 희망과 믿음을 주는 이들의 이야기입니다. 힘들고 지칠 때 아직 살만한 세상을 만들어가는 ‘아살세’ 사람들의 목소리를 들어보세요. 따뜻한 세상을 꿈꾸는 독자 여러분의 제보를 기다립니다.  khmaeng@kmib.co.kr']"
     },
     "execution_count": 8,
     "metadata": {},
     "output_type": "execute_result"
    }
   ],
   "source": [
    "remove_press(simple_text4)"
   ]
  },
  {
   "cell_type": "code",
   "execution_count": null,
   "metadata": {},
   "outputs": [],
   "source": [
    "simple_text5= \"[]\""
   ]
  },
  {
   "cell_type": "code",
   "execution_count": 20,
   "metadata": {},
   "outputs": [
    {
     "name": "stdout",
     "output_type": "stream",
     "text": "['train_ver1.csv', 'valid.json', 'train.json', 'valid_ver1.csv']\n"
    }
   ],
   "source": [
    "print(os.listdir('/opt/ml/code/final-project-level3-nlp-19/data/train'))"
   ]
  },
  {
   "cell_type": "code",
   "execution_count": 20,
   "metadata": {},
   "outputs": [],
   "source": [
    "import json"
   ]
  },
  {
   "cell_type": "code",
   "execution_count": 21,
   "metadata": {},
   "outputs": [],
   "source": [
    "with open('/opt/ml/code/final-project-level3-nlp-19/data/train/train.json' , 'r' , encoding='utf-8') as f : \n",
    "    train_data = json.load(f)"
   ]
  },
  {
   "cell_type": "code",
   "execution_count": null,
   "metadata": {},
   "outputs": [],
   "source": []
  },
  {
   "cell_type": "code",
   "execution_count": 29,
   "metadata": {},
   "outputs": [
    {
     "data": {
      "text/plain": "226894"
     },
     "execution_count": 29,
     "metadata": {},
     "output_type": "execute_result"
    }
   ],
   "source": [
    "len(train_data['data'])"
   ]
  },
  {
   "cell_type": "code",
   "execution_count": 12,
   "metadata": {},
   "outputs": [
    {
     "data": {
      "text/plain": "dict_keys(['id', 'context', 'question', 'answers', 'class_type'])"
     },
     "execution_count": 12,
     "metadata": {},
     "output_type": "execute_result"
    }
   ],
   "source": [
    "train_data['data'][0].keys()"
   ]
  },
  {
   "cell_type": "code",
   "execution_count": 13,
   "metadata": {},
   "outputs": [
    {
     "data": {
      "text/plain": "{'answer_start': [0], 'text': ['한국청소년단체협의회와 여성가족부']}"
     },
     "execution_count": 13,
     "metadata": {},
     "output_type": "execute_result"
    }
   ],
   "source": [
    "train_data['data'][0]['answers']"
   ]
  },
  {
   "cell_type": "code",
   "execution_count": 3,
   "metadata": {},
   "outputs": [],
   "source": [
    "def normalize_map_func(text):\n",
    "    text= [text]\n",
    "    text = remove_copyrightspattern(text)\n",
    "    text = remove_html(text)\n",
    "    text = remove_email(text)\n",
    "    text = remove_hashtag(text)\n",
    "    text = remove_user_mention(text)\n",
    "    text = remove_url(text)\n",
    "    text = remove_bad_char(text)\n",
    "    text = remove_press(text)\n",
    "    text = remove_copyright(text)\n",
    "\n",
    "    text = remove_photo_info(text)\n",
    "    text = remove_useless_breacket(text)\n",
    "    text = remove_repeat_char(text)\n",
    "    text = clean_punc(text)\n",
    "\n",
    "    text = remove_repeated_spacing(text)\n",
    "    text = spacing_sent(text)\n",
    "\n",
    "    return text"
   ]
  },
  {
   "cell_type": "code",
   "execution_count": null,
   "metadata": {},
   "outputs": [],
   "source": [
    "ὧ"
   ]
  },
  {
   "cell_type": "code",
   "execution_count": 51,
   "metadata": {},
   "outputs": [],
   "source": [
    "def get_clean_data(data):\n",
    "    print(data['id'])\n",
    "    text_length = len(data['answers']['text'][0])\n",
    "    answer_start  = data['answers']['answer_start'][0]\n",
    "    context = data['context'][:answer_start] + \"ὧ\" + data['context'][answer_start:answer_start+ text_length ] + \"Ὠ\" + data['context'][answer_start+text_length  : ]\n",
    "    \n",
    "    context = normalize_map_func(context)\n",
    "    print(context)\n",
    "    \n",
    "    answer_start=context[0].index(\"ὧ\")\n",
    "    answer_end = context[0].index(\"Ὠ\")\n",
    "\n",
    "    text = context[0][answer_start+1:answer_end]\n",
    "    text_length = len(text)\n",
    "    text=text.lstrip()\n",
    "    answer_start+=(text_length-len(text))\n",
    "    text = text.rstrip()\n",
    "    context = remove_answer_mark(context)\n",
    "    return {\"id\" : data['id'] , \"context\" :  context[0], \"question\" : normalize_map_func(data['question']) , \"answers\" : {'answer_start' : answer_start , 'text' : text }}"
   ]
  },
  {
   "cell_type": "code",
   "execution_count": 5,
   "metadata": {},
   "outputs": [],
   "source": [
    "from datasets import load_metric, load_from_disk, Dataset, DatasetDict, load_dataset\n"
   ]
  },
  {
   "cell_type": "code",
   "execution_count": 6,
   "metadata": {},
   "outputs": [],
   "source": [
    "PATH = '/opt/ml/code/final-project-level3-nlp-19/data/train'"
   ]
  },
  {
   "cell_type": "code",
   "execution_count": 7,
   "metadata": {},
   "outputs": [
    {
     "name": "stderr",
     "output_type": "stream",
     "text": "Using custom data configuration default-f9064c9c6f6bb4d5\nReusing dataset json (/opt/ml/.cache/huggingface/datasets/json/default-f9064c9c6f6bb4d5/0.0.0/83d5b3a2f62630efc6b5315f00f20209b4ad91a00ac586597caee3a4da0bef02)\n"
    }
   ],
   "source": [
    "datasets = load_dataset('json', data_files={'train':os.path.join(PATH, 'train.json'), 'validation': os.path.join(PATH, 'valid.json')}, field='data')"
   ]
  },
  {
   "cell_type": "code",
   "execution_count": 8,
   "metadata": {},
   "outputs": [
    {
     "data": {
      "text/plain": "DatasetDict({\n    train: Dataset({\n        features: ['id', 'context', 'question', 'answers', 'class_type'],\n        num_rows: 226894\n    })\n    validation: Dataset({\n        features: ['id', 'context', 'question', 'answers', 'class_type'],\n        num_rows: 18116\n    })\n})"
     },
     "execution_count": 8,
     "metadata": {},
     "output_type": "execute_result"
    }
   ],
   "source": [
    "datasets"
   ]
  },
  {
   "cell_type": "code",
   "execution_count": 43,
   "metadata": {},
   "outputs": [
    {
     "data": {
      "text/plain": "{'id': 'm5_306511-1',\n 'context': '[엑스포츠뉴스 임지연 기자] 그룹 인피니트 출신 이호원이 춤 연습 영상을 공개했다. 이호원은 15일 자신의 인스타그램에 안무 영상을 공개했다.공개된 영상 속 이호원은 그루브한 음악에 맞춰 안무 연습에 열중인 모습이다. 자연스러운 리듬 타기와 절제력 있으면서도 파워풀한 동작이 시선을 잡아당긴다.이호원은 지난해 6월 인피니트에서 탈퇴한 뒤 호야라는 예명 대신 본명 이호원으로 활동했다. MBC 드라마 \\'투깝스\\' 등에 출연해 많은 사랑을 받았다.배우로 활동하던 호야는 솔로 가수로 대중 앞에 설 계획이다. 소속사 측은 최근 \"3월초 중순을 목표로 솔로 앨범을 준비 중\"이라고 알렸다. enter@xportsnews.com / 사진 = 이호원 인스타그램▶ 매력폭발 스타들의 모습을 영상으로[] ▶ 엑스포츠뉴스 공식 [] [] - Copyrightsⓒ엑스포츠뉴스() 무단 전재 및 재배포 금지',\n 'question': '인피니트를 탈퇴한 뒤 호야라는 예명대신 본명으로 활동하는 솔로 가수는?',\n 'answers': {'answer_start': [203], 'text': ['이호원']},\n 'class_type': 'work_who'}"
     },
     "execution_count": 43,
     "metadata": {},
     "output_type": "execute_result"
    }
   ],
   "source": [
    "datasets['train'][655]"
   ]
  },
  {
   "cell_type": "code",
   "execution_count": 44,
   "metadata": {},
   "outputs": [
    {
     "name": "stdout",
     "output_type": "stream",
     "text": "['그룹 인피니트 출신 이 호원이 춤 연습 영상을 공개했다. 이 호원은 15일 자신의 인스타그램에 안무 영상을 공개했다. 공개된 영상 속 이 호원은 그루브한 음악에 맞춰 안무 연습에 열 중인 모습이다. 자연스러운 리듬 타기와 절제력 있으면서도 파워풀한 동작이 시선을 잡아당긴다.이 호원은 지난해 6월 인피니트에서 탈퇴한 뒤 호야라는 예명 대신 본 명 ὧ이 호원Ὠ으로 활동했 다. MBC 드라마 \\'투깝스\\' 등에 출연해 많은 사랑을 받았다. 배우로 활동하던 호야는 솔로 가수로 대 중 앞에 설 계획이다. 소속사 측은 최근 \"3월 초 중순을 목표로 솔로 앨범을 준비 중\"이라고 알렸다.']\n"
    },
    {
     "data": {
      "text/plain": "{'id': 'm5_306511-1',\n 'context': '그룹 인피니트 출신 이 호원이 춤 연습 영상을 공개했다. 이 호원은 15일 자신의 인스타그램에 안무 영상을 공개했다. 공개된 영상 속 이 호원은 그루브한 음악에 맞춰 안무 연습에 열 중인 모습이다. 자연스러운 리듬 타기와 절제력 있으면서도 파워풀한 동작이 시선을 잡아당긴다.이 호원은 지난해 6월 인피니트에서 탈퇴한 뒤 호야라는 예명 대신 본 명 이 호원으로 활동했 다. MBC 드라마 \\'투깝스\\' 등에 출연해 많은 사랑을 받았다. 배우로 활동하던 호야는 솔로 가수로 대 중 앞에 설 계획이다. 소속사 측은 최근 \"3월 초 중순을 목표로 솔로 앨범을 준비 중\"이라고 알렸다.',\n 'question': ['인피니트를 탈퇴한 뒤 호야라는 예명 대신 본명으로 활동하는 솔로 가수는'],\n 'answers': {'answer_start': 194, 'text': '이 호원'}}"
     },
     "execution_count": 44,
     "metadata": {},
     "output_type": "execute_result"
    }
   ],
   "source": [
    "get_clean_data(datasets['train'][655])"
   ]
  },
  {
   "cell_type": "code",
   "execution_count": 11,
   "metadata": {},
   "outputs": [
    {
     "data": {
      "text/plain": "['이호원']"
     },
     "execution_count": 11,
     "metadata": {},
     "output_type": "execute_result"
    }
   ],
   "source": [
    "normalize_map_func('이호원')"
   ]
  },
  {
   "cell_type": "code",
   "execution_count": 45,
   "metadata": {},
   "outputs": [
    {
     "name": "stdout",
     "output_type": "stream",
     "text": "['그룹 인피니트 출신 이 호원이 춤 연습 영상을 공개했다. 이 호원은 15일 자신의 인스타그램에 안무 영상을 공개했다. 공개된 영상 속 이 호원은 그루브한 음악에 맞춰 안무 연습에 열 중인 모습이다. 자연스러운 리듬 타기와 절제력 있으면서도 파워풀한 동작이 시선을 잡아당긴다.이 호원은 지난해 6월 인피니트에서 탈퇴한 뒤 호야라는 예명 대신 본 명 ὧ이 호원Ὠ으로 활동했 다. MBC 드라마 \\'투깝스\\' 등에 출연해 많은 사랑을 받았다. 배우로 활동하던 호야는 솔로 가수로 대 중 앞에 설 계획이다. 소속사 측은 최근 \"3월 초 중순을 목표로 솔로 앨범을 준비 중\"이라고 알렸다.']\n"
    },
    {
     "data": {
      "text/plain": "'이 호원'"
     },
     "execution_count": 45,
     "metadata": {},
     "output_type": "execute_result"
    }
   ],
   "source": [
    "get_clean_data(datasets['train'][655])['context'][194:198]"
   ]
  },
  {
   "cell_type": "code",
   "execution_count": null,
   "metadata": {},
   "outputs": [],
   "source": [
    "datasets['train'][4]"
   ]
  },
  {
   "cell_type": "markdown",
   "metadata": {},
   "source": [
    "datasets['train'] = datasets['train'].map(get_clean_data,            batched=True,\n",
    "            num_proc=8)"
   ]
  },
  {
   "cell_type": "code",
   "execution_count": null,
   "metadata": {},
   "outputs": [],
   "source": [
    "datasets['train']"
   ]
  },
  {
   "cell_type": "code",
   "execution_count": 52,
   "metadata": {},
   "outputs": [
    {
     "name": "stdout",
     "output_type": "stream",
     "text": "['c1_57059-1', 'c1_57060-1']\n"
    },
    {
     "ename": "TypeError",
     "evalue": "list indices must be integers or slices, not str",
     "output_type": "error",
     "traceback": [
      "\u001b[0;31m---------------------------------------------------------------------------\u001b[0m",
      "\u001b[0;31mTypeError\u001b[0m                                 Traceback (most recent call last)",
      "\u001b[0;32m/tmp/ipykernel_59630/435962629.py\u001b[0m in \u001b[0;36m<module>\u001b[0;34m\u001b[0m\n\u001b[0;32m----> 1\u001b[0;31m \u001b[0mdatasets\u001b[0m\u001b[0;34m[\u001b[0m\u001b[0;34m'train'\u001b[0m\u001b[0;34m]\u001b[0m \u001b[0;34m=\u001b[0m \u001b[0mdatasets\u001b[0m\u001b[0;34m[\u001b[0m\u001b[0;34m'train'\u001b[0m\u001b[0;34m]\u001b[0m\u001b[0;34m.\u001b[0m\u001b[0mmap\u001b[0m\u001b[0;34m(\u001b[0m\u001b[0mget_clean_data\u001b[0m\u001b[0;34m,\u001b[0m \u001b[0mbatched\u001b[0m\u001b[0;34m=\u001b[0m\u001b[0;32mTrue\u001b[0m\u001b[0;34m,\u001b[0m \u001b[0mbatch_size\u001b[0m\u001b[0;34m=\u001b[0m\u001b[0;36m1\u001b[0m\u001b[0;34m)\u001b[0m\u001b[0;34m\u001b[0m\u001b[0;34m\u001b[0m\u001b[0m\n\u001b[0m",
      "\u001b[0;32m/opt/conda/envs/lightweight/lib/python3.7/site-packages/datasets/arrow_dataset.py\u001b[0m in \u001b[0;36mmap\u001b[0;34m(self, function, with_indices, input_columns, batched, batch_size, drop_last_batch, remove_columns, keep_in_memory, load_from_cache_file, cache_file_name, writer_batch_size, features, disable_nullable, fn_kwargs, num_proc, suffix_template, new_fingerprint)\u001b[0m\n\u001b[1;32m   1406\u001b[0m         \u001b[0mtest_inputs\u001b[0m \u001b[0;34m=\u001b[0m \u001b[0mself\u001b[0m\u001b[0;34m[\u001b[0m\u001b[0;34m:\u001b[0m\u001b[0;36m2\u001b[0m\u001b[0;34m]\u001b[0m \u001b[0;32mif\u001b[0m \u001b[0mbatched\u001b[0m \u001b[0;32melse\u001b[0m \u001b[0mself\u001b[0m\u001b[0;34m[\u001b[0m\u001b[0;36m0\u001b[0m\u001b[0;34m]\u001b[0m\u001b[0;34m\u001b[0m\u001b[0;34m\u001b[0m\u001b[0m\n\u001b[1;32m   1407\u001b[0m         \u001b[0mtest_indices\u001b[0m \u001b[0;34m=\u001b[0m \u001b[0;34m[\u001b[0m\u001b[0;36m0\u001b[0m\u001b[0;34m,\u001b[0m \u001b[0;36m1\u001b[0m\u001b[0;34m]\u001b[0m \u001b[0;32mif\u001b[0m \u001b[0mbatched\u001b[0m \u001b[0;32melse\u001b[0m \u001b[0;36m0\u001b[0m\u001b[0;34m\u001b[0m\u001b[0;34m\u001b[0m\u001b[0m\n\u001b[0;32m-> 1408\u001b[0;31m         \u001b[0mupdate_data\u001b[0m \u001b[0;34m=\u001b[0m \u001b[0mdoes_function_return_dict\u001b[0m\u001b[0;34m(\u001b[0m\u001b[0mtest_inputs\u001b[0m\u001b[0;34m,\u001b[0m \u001b[0mtest_indices\u001b[0m\u001b[0;34m)\u001b[0m\u001b[0;34m\u001b[0m\u001b[0;34m\u001b[0m\u001b[0m\n\u001b[0m\u001b[1;32m   1409\u001b[0m         \u001b[0mlogger\u001b[0m\u001b[0;34m.\u001b[0m\u001b[0minfo\u001b[0m\u001b[0;34m(\u001b[0m\u001b[0;34m\"Testing finished, running the mapping function on the dataset\"\u001b[0m\u001b[0;34m)\u001b[0m\u001b[0;34m\u001b[0m\u001b[0;34m\u001b[0m\u001b[0m\n\u001b[1;32m   1410\u001b[0m \u001b[0;34m\u001b[0m\u001b[0m\n",
      "\u001b[0;32m/opt/conda/envs/lightweight/lib/python3.7/site-packages/datasets/arrow_dataset.py\u001b[0m in \u001b[0;36mdoes_function_return_dict\u001b[0;34m(inputs, indices)\u001b[0m\n\u001b[1;32m   1377\u001b[0m             \u001b[0mfn_args\u001b[0m \u001b[0;34m=\u001b[0m \u001b[0;34m[\u001b[0m\u001b[0minputs\u001b[0m\u001b[0;34m]\u001b[0m \u001b[0;32mif\u001b[0m \u001b[0minput_columns\u001b[0m \u001b[0;32mis\u001b[0m \u001b[0;32mNone\u001b[0m \u001b[0;32melse\u001b[0m \u001b[0;34m[\u001b[0m\u001b[0minputs\u001b[0m\u001b[0;34m[\u001b[0m\u001b[0mcol\u001b[0m\u001b[0;34m]\u001b[0m \u001b[0;32mfor\u001b[0m \u001b[0mcol\u001b[0m \u001b[0;32min\u001b[0m \u001b[0minput_columns\u001b[0m\u001b[0;34m]\u001b[0m\u001b[0;34m\u001b[0m\u001b[0;34m\u001b[0m\u001b[0m\n\u001b[1;32m   1378\u001b[0m             processed_inputs = (\n\u001b[0;32m-> 1379\u001b[0;31m                 \u001b[0mfunction\u001b[0m\u001b[0;34m(\u001b[0m\u001b[0;34m*\u001b[0m\u001b[0mfn_args\u001b[0m\u001b[0;34m,\u001b[0m \u001b[0mindices\u001b[0m\u001b[0;34m,\u001b[0m \u001b[0;34m**\u001b[0m\u001b[0mfn_kwargs\u001b[0m\u001b[0;34m)\u001b[0m \u001b[0;32mif\u001b[0m \u001b[0mwith_indices\u001b[0m \u001b[0;32melse\u001b[0m \u001b[0mfunction\u001b[0m\u001b[0;34m(\u001b[0m\u001b[0;34m*\u001b[0m\u001b[0mfn_args\u001b[0m\u001b[0;34m,\u001b[0m \u001b[0;34m**\u001b[0m\u001b[0mfn_kwargs\u001b[0m\u001b[0;34m)\u001b[0m\u001b[0;34m\u001b[0m\u001b[0;34m\u001b[0m\u001b[0m\n\u001b[0m\u001b[1;32m   1380\u001b[0m             )\n\u001b[1;32m   1381\u001b[0m             \u001b[0mdoes_return_dict\u001b[0m \u001b[0;34m=\u001b[0m \u001b[0misinstance\u001b[0m\u001b[0;34m(\u001b[0m\u001b[0mprocessed_inputs\u001b[0m\u001b[0;34m,\u001b[0m \u001b[0mMapping\u001b[0m\u001b[0;34m)\u001b[0m\u001b[0;34m\u001b[0m\u001b[0;34m\u001b[0m\u001b[0m\n",
      "\u001b[0;32m/tmp/ipykernel_59630/2485682453.py\u001b[0m in \u001b[0;36mget_clean_data\u001b[0;34m(data)\u001b[0m\n\u001b[1;32m      1\u001b[0m \u001b[0;32mdef\u001b[0m \u001b[0mget_clean_data\u001b[0m\u001b[0;34m(\u001b[0m\u001b[0mdata\u001b[0m\u001b[0;34m)\u001b[0m\u001b[0;34m:\u001b[0m\u001b[0;34m\u001b[0m\u001b[0;34m\u001b[0m\u001b[0m\n\u001b[1;32m      2\u001b[0m     \u001b[0mprint\u001b[0m\u001b[0;34m(\u001b[0m\u001b[0mdata\u001b[0m\u001b[0;34m[\u001b[0m\u001b[0;34m'id'\u001b[0m\u001b[0;34m]\u001b[0m\u001b[0;34m)\u001b[0m\u001b[0;34m\u001b[0m\u001b[0;34m\u001b[0m\u001b[0m\n\u001b[0;32m----> 3\u001b[0;31m     \u001b[0mtext_length\u001b[0m \u001b[0;34m=\u001b[0m \u001b[0mlen\u001b[0m\u001b[0;34m(\u001b[0m\u001b[0mdata\u001b[0m\u001b[0;34m[\u001b[0m\u001b[0;34m'answers'\u001b[0m\u001b[0;34m]\u001b[0m\u001b[0;34m[\u001b[0m\u001b[0;34m'text'\u001b[0m\u001b[0;34m]\u001b[0m\u001b[0;34m[\u001b[0m\u001b[0;36m0\u001b[0m\u001b[0;34m]\u001b[0m\u001b[0;34m)\u001b[0m\u001b[0;34m\u001b[0m\u001b[0;34m\u001b[0m\u001b[0m\n\u001b[0m\u001b[1;32m      4\u001b[0m     \u001b[0manswer_start\u001b[0m  \u001b[0;34m=\u001b[0m \u001b[0mdata\u001b[0m\u001b[0;34m[\u001b[0m\u001b[0;34m'answers'\u001b[0m\u001b[0;34m]\u001b[0m\u001b[0;34m[\u001b[0m\u001b[0;34m'answer_start'\u001b[0m\u001b[0;34m]\u001b[0m\u001b[0;34m[\u001b[0m\u001b[0;36m0\u001b[0m\u001b[0;34m]\u001b[0m\u001b[0;34m\u001b[0m\u001b[0;34m\u001b[0m\u001b[0m\n\u001b[1;32m      5\u001b[0m     \u001b[0mcontext\u001b[0m \u001b[0;34m=\u001b[0m \u001b[0mdata\u001b[0m\u001b[0;34m[\u001b[0m\u001b[0;34m'context'\u001b[0m\u001b[0;34m]\u001b[0m\u001b[0;34m[\u001b[0m\u001b[0;34m:\u001b[0m\u001b[0manswer_start\u001b[0m\u001b[0;34m]\u001b[0m \u001b[0;34m+\u001b[0m \u001b[0;34m\"ὧ\"\u001b[0m \u001b[0;34m+\u001b[0m \u001b[0mdata\u001b[0m\u001b[0;34m[\u001b[0m\u001b[0;34m'context'\u001b[0m\u001b[0;34m]\u001b[0m\u001b[0;34m[\u001b[0m\u001b[0manswer_start\u001b[0m\u001b[0;34m:\u001b[0m\u001b[0manswer_start\u001b[0m\u001b[0;34m+\u001b[0m \u001b[0mtext_length\u001b[0m \u001b[0;34m]\u001b[0m \u001b[0;34m+\u001b[0m \u001b[0;34m\"Ὠ\"\u001b[0m \u001b[0;34m+\u001b[0m \u001b[0mdata\u001b[0m\u001b[0;34m[\u001b[0m\u001b[0;34m'context'\u001b[0m\u001b[0;34m]\u001b[0m\u001b[0;34m[\u001b[0m\u001b[0manswer_start\u001b[0m\u001b[0;34m+\u001b[0m\u001b[0mtext_length\u001b[0m  \u001b[0;34m:\u001b[0m \u001b[0;34m]\u001b[0m\u001b[0;34m\u001b[0m\u001b[0;34m\u001b[0m\u001b[0m\n",
      "\u001b[0;31mTypeError\u001b[0m: list indices must be integers or slices, not str"
     ]
    }
   ],
   "source": [
    "datasets['train'] = datasets['train'].map(get_clean_data, batched=True, batch_size=1)"
   ]
  },
  {
   "cell_type": "code",
   "execution_count": null,
   "metadata": {},
   "outputs": [],
   "source": []
  }
 ]
}